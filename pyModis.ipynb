{
 "cells": [
  {
   "cell_type": "markdown",
   "id": "1d75967a",
   "metadata": {},
   "source": [
    "# pyModis notebook"
   ]
  },
  {
   "cell_type": "markdown",
   "id": "f8f78832",
   "metadata": {},
   "source": [
    "## Download data"
   ]
  },
  {
   "cell_type": "markdown",
   "id": "90259135",
   "metadata": {},
   "source": [
    "First we have to import pymodis library and set all the needed variables"
   ]
  },
  {
   "cell_type": "code",
   "execution_count": 1,
   "id": "edca8a94",
   "metadata": {},
   "outputs": [],
   "source": [
    "# import import_ipynb"
   ]
  },
  {
   "cell_type": "code",
   "execution_count": 6,
   "id": "fcdd0e35",
   "metadata": {
    "collapsed": false,
    "jupyter": {
     "outputs_hidden": false
    }
   },
   "outputs": [],
   "source": [
    "import os\n",
    "import glob\n",
    "import datetime\n",
    "\n",
    "from IPython.core.display import Image\n",
    "from pymodis import downmodis"
   ]
  },
  {
   "cell_type": "code",
   "execution_count": 7,
   "id": "2a6402d2",
   "metadata": {
    "collapsed": false,
    "jupyter": {
     "outputs_hidden": false
    }
   },
   "outputs": [],
   "source": [
    "\n",
    "dest = \"E:\\\\project_work\\\\data\\\\hdf5\"\n",
    "os.makedirs(dest, exist_ok=True)\n",
    "                                        # tiles to download : https://lpdaac.usgs.gov/data/get-started-data/collection-overview/missions/modis-overview/\n",
    "tiles = \"h24v06\"\n",
    "\n",
    "start_date = datetime.date(year=2022, month=10, day = 31)                #start date\n",
    "\n",
    "initial_date = datetime.date(year=2000, month=2, day = 24)\n",
    "no_of_days=(start_date-initial_date).days\n",
    "\n"
   ]
  },
  {
   "cell_type": "markdown",
   "id": "308a5d70",
   "metadata": {},
   "source": [
    "At this point we can initialize the downmodis object. We are going to download MODIS LST product, in the \"/tmp\" directory"
   ]
  },
  {
   "cell_type": "code",
   "execution_count": 8,
   "id": "2794e16f",
   "metadata": {
    "collapsed": false,
    "jupyter": {
     "outputs_hidden": false
    }
   },
   "outputs": [],
   "source": [
    "\n",
    "def date_gen(start_date, end_date, step=1):\n",
    "    days_passed = 0\n",
    "    current_date = start_date - datetime.timedelta(days=step)\n",
    "    if end_date >= start_date:\n",
    "        while (current_date <= end_date):\n",
    "            current_date += datetime.timedelta(days=step)\n",
    "            yield current_date\n",
    "    return\n",
    "\n",
    "start_date_str = f'{start_date:%Y-%m-%d}'\n",
    "modisDown = downmodis.downModis(destinationFolder=dest,user='soni.13' , password='Satyam#7252', product='MOD11C1.061', today=start_date_str, delta=1)"
   ]
  },
  {
   "cell_type": "code",
   "execution_count": 9,
   "id": "bf82ef64",
   "metadata": {
    "collapsed": false,
    "jupyter": {
     "outputs_hidden": false
    }
   },
   "outputs": [],
   "source": [
    "modisDown.connect()"
   ]
  },
  {
   "cell_type": "markdown",
   "id": "3838e807",
   "metadata": {},
   "source": [
    "At this point we start the download of files."
   ]
  },
  {
   "cell_type": "markdown",
   "id": "22818710",
   "metadata": {},
   "source": [
    "<div style=\"border: 1px solid red;\"><h6 style=\"color:#ff4040; margin: 0.5em;\">Warning</h6>\n",
    "<span style=\"margin: 0.5em;\">The next operation could take some minutes depending on your internet speed</span></div>"
   ]
  },
  {
   "cell_type": "code",
   "execution_count": 10,
   "id": "776fb626",
   "metadata": {
    "collapsed": false,
    "jupyter": {
     "outputs_hidden": false
    }
   },
   "outputs": [],
   "source": [
    "modisDown.downloadsAllDay()"
   ]
  }
 ],
 "metadata": {
  "kernelspec": {
   "display_name": "Python 3 (ipykernel)",
   "language": "python",
   "name": "python3"
  },
  "language_info": {
   "codemirror_mode": {
    "name": "ipython",
    "version": 3
   },
   "file_extension": ".py",
   "mimetype": "text/x-python",
   "name": "python",
   "nbconvert_exporter": "python",
   "pygments_lexer": "ipython3",
   "version": "3.9.12"
  },
  "vscode": {
   "interpreter": {
    "hash": "27f6fea6f47ae512550f0b8facdbd035a93e1dd89633f7bf2dd00a2502c71d0d"
   }
  }
 },
 "nbformat": 4,
 "nbformat_minor": 5
}
